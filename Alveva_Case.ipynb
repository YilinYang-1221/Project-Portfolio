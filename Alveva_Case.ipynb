{
  "nbformat": 4,
  "nbformat_minor": 0,
  "metadata": {
    "colab": {
      "provenance": []
    },
    "kernelspec": {
      "name": "python3",
      "display_name": "Python 3"
    },
    "language_info": {
      "name": "python"
    }
  },
  "cells": [
    {
      "cell_type": "markdown",
      "source": [
        "# **Yilin Yang - HW4 Part2**"
      ],
      "metadata": {
        "id": "lAD5fe51xHi1"
      }
    },
    {
      "cell_type": "markdown",
      "source": [
        "Parameters:\n",
        "\n",
        "i: number of products\n",
        "\n",
        "j: box number\n",
        "\n",
        "k: subscriber type\n",
        "\n",
        "N(k): number of subscribers in type j\n",
        "\n",
        "c(i,k): cost of product i for subscriber k\n",
        "\n",
        "Decision variable:\n",
        "\n",
        "x(ij): whether to include product i in box j\n",
        "\n",
        "y(jk): whether to send box j to subscriber k\n",
        "\n",
        "u(i,j,k) = x(ij)*y(jk): whether to include i in box j and send to subscriber k\n",
        "\n",
        "Revenue of products: 8 * sum_i sum_j sum_k (N(k) * x(ij) * y(jk)) = 8 * sum_i sum_j sum_k (N(k) * u(i,j,k))\n",
        "\n",
        "Cost of products: sum_i sum_j sum_k (N(k) * x(ij) * y(jk) * c(ik)) = sum_i sum_j sum_k (N(k) * u(i,j,k) * c(ik))"
      ],
      "metadata": {
        "id": "Ox_grGhzyB4Q"
      }
    },
    {
      "cell_type": "code",
      "execution_count": 45,
      "metadata": {
        "id": "ToTE3mBBvCvI",
        "colab": {
          "base_uri": "https://localhost:8080/"
        },
        "outputId": "a055215d-bbb3-4d08-ffc3-9629c1e23d38"
      },
      "outputs": [
        {
          "output_type": "stream",
          "name": "stdout",
          "text": [
            "Requirement already satisfied: gurobipy in /usr/local/lib/python3.10/dist-packages (11.0.0)\n"
          ]
        }
      ],
      "source": [
        "%pip install gurobipy"
      ]
    },
    {
      "cell_type": "code",
      "source": [
        "from gurobipy import Model, GRB, quicksum\n",
        "import numpy as np\n",
        "import pandas as pd"
      ],
      "metadata": {
        "id": "9CjG5tI-vIWu"
      },
      "execution_count": 46,
      "outputs": []
    },
    {
      "cell_type": "code",
      "source": [
        "# define products\n",
        "products = np.array(['Moisturizer A','Moisturizer B', 'Moisturizer C', 'Moisturizer D',\n",
        "                     'Lipstick A', 'Lipstick B', 'Lipstick C', 'Lipstick D',\n",
        "                     'Concealer A', 'Concealer B', 'Concealer C', 'Concealer D',\n",
        "                     'Highlighter A', 'Highlighter B', 'Highlighter C', 'Highlighter D',\n",
        "                     'Nailpolish A', 'Nailpolish B', 'Nailpolish C', 'Nailpolish D'])\n",
        "nb_products = len(products) # i\n",
        "\n",
        "\n",
        "# define boxes\n",
        "boxes = np.array(['Box 1', 'Box 2', 'Box 3'])\n",
        "nb_boxes = len(boxes) # j\n",
        "\n",
        "# define type of subscribers\n",
        "subscribers = np.array([1, 2, 3, 4, 5, 6, 7, 8, 9, 10])\n",
        "nb_subscribers_type = len(subscribers) #k\n",
        "\n",
        "# define number of subscribers\n",
        "N = np.array([8264, 5248, 7676, 5497, 23140, 12723, 20746, 22761, 6922, 3966])\n",
        "\n",
        "\n",
        "# define c(ik)\n",
        "c = np.array([\n",
        "    [100,15,15,15,15,15,15,15,15,15],\n",
        "    [18,18,18,100,18,18,18,18,18,18],\n",
        "    [11,11,11,11,11,11,11,100,11,11],\n",
        "    [18,100,100,18,18,18,100,18,18,18],\n",
        "    [10,10,10,10,10,100,10,10,10,100],\n",
        "    [7,7,7,7,7,100,100,100,100,100],\n",
        "    [100,20,20,20,20,20,20,100,20,100],\n",
        "    [9,9,9,9,9,9,9,9,9,9],\n",
        "    [24,24,24,24,24,24,24,24,24,100],\n",
        "    [100,100,100,100,6,6,6,6,6,6],\n",
        "    [14,14,14,14,14,14,14,14,14,14],\n",
        "    [24,24,100,100,24,24,24,24,24,24],\n",
        "    [100,19,19,19,19,19,19,19,19,19],\n",
        "    [100,19,19,19,19,19,19,19,19,19],\n",
        "    [5,5,100,5,5,100,100,5,5,100],\n",
        "    [6,6,6,100,6,6,6,6,6,100],\n",
        "    [27,27,100,27,27,27,27,27,27,27],\n",
        "    [15,15,15,15,15,15,15,15,100,15],\n",
        "    [6,100,6,6,6,100,100,6,6,100],\n",
        "    [100,9,9,9,9,9,9,9,9,9]\n",
        "])\n",
        "\n"
      ],
      "metadata": {
        "id": "AqIGOpZ5vG3b"
      },
      "execution_count": 85,
      "outputs": []
    },
    {
      "cell_type": "code",
      "source": [
        "# define model\n",
        "m = Model('Aleva case')"
      ],
      "metadata": {
        "id": "JQXh-egt1DbB"
      },
      "execution_count": 71,
      "outputs": []
    },
    {
      "cell_type": "code",
      "source": [
        "# decision variables\n",
        "x = m.addVars(nb_products, nb_boxes, vtype = GRB.BINARY, name = 'product inclusion')\n",
        "y = m.addVars(nb_boxes, nb_subscribers_type, vtype = GRB.BINARY, name = 'box assignment')\n",
        "u = m.addVars(nb_products, nb_boxes, nb_subscribers_type, vtype = GRB.BINARY, name = 'total plan')"
      ],
      "metadata": {
        "id": "hhAEDfBu5J_9"
      },
      "execution_count": 72,
      "outputs": []
    },
    {
      "cell_type": "code",
      "source": [
        "# calculate the revenue\n",
        "revenue = 8 * quicksum(quicksum(quicksum(u[i,j,k] * N[k] for k in range(nb_subscribers_type)) for j in range(nb_boxes)) for i in range(nb_products))\n",
        "cost = quicksum(quicksum(quicksum(u[i,j,k] * N[k] * c[i,k] for k in range(nb_subscribers_type)) for j in range(nb_boxes)) for i in range(nb_products))\n",
        "\n",
        "# define objective function\n",
        "m.setObjective(revenue - cost, GRB.MAXIMIZE)"
      ],
      "metadata": {
        "id": "T070A8AR7kqg"
      },
      "execution_count": 73,
      "outputs": []
    },
    {
      "cell_type": "code",
      "source": [
        "# add constraints\n",
        "\n",
        "# (1) box item constraint\n",
        "for j in range(nb_boxes):\n",
        "  m.addConstr(quicksum(x[i,j] for i in range(nb_products)) >= 4, name = 'box upper limit')\n",
        "  m.addConstr(quicksum(x[i,j] for i in range(nb_products)) <= 7, name = 'box lower limit')\n",
        "\n",
        "# (2) assignment constraint\n",
        "for k in range(nb_subscribers_type):\n",
        "  m.addConstr(quicksum(y[j,k] for j in range(nb_boxes)) == 1, name = 'assignment constraint')\n",
        "\n",
        "\n",
        "# (3) resource constraint\n",
        "for i in range(nb_products):\n",
        "  m.addConstr(quicksum(quicksum(N[k] * u[i,j,k] for k in range(nb_subscribers_type)) for j in range(nb_boxes)) <= 80000, name = 'resource limit')\n",
        "\n",
        "# (4) linearity adjustment\n",
        "for i in range(nb_products):\n",
        "  for j in range(nb_boxes):\n",
        "    for k in range(nb_subscribers_type):\n",
        "      m.addConstr(u[i,j,k] >= x[i,j] + y[j,k] - 1, name = 'linearity 1')\n",
        "      m.addConstr(u[i,j,k] <= x[i,j], name = 'linearity 2')\n",
        "      m.addConstr(u[i,j,k] <= y[j,k], name = 'linearity 3')"
      ],
      "metadata": {
        "id": "SWXPP_Qf_WVy"
      },
      "execution_count": 74,
      "outputs": []
    },
    {
      "cell_type": "code",
      "source": [
        "# update and solve the model\n",
        "m.update()\n",
        "m.optimize()"
      ],
      "metadata": {
        "colab": {
          "base_uri": "https://localhost:8080/"
        },
        "id": "FKrFTjSPDKql",
        "outputId": "9bb0c0b9-59c0-4b5f-ee2d-2a28bb7e30d6"
      },
      "execution_count": 75,
      "outputs": [
        {
          "output_type": "stream",
          "name": "stdout",
          "text": [
            "Gurobi Optimizer version 11.0.0 build v11.0.0rc2 (linux64 - \"Ubuntu 22.04.3 LTS\")\n",
            "\n",
            "CPU model: Intel(R) Xeon(R) CPU @ 2.20GHz, instruction set [SSE2|AVX|AVX2]\n",
            "Thread count: 1 physical cores, 2 logical processors, using up to 2 threads\n",
            "\n",
            "Optimize a model with 1836 rows, 690 columns and 4950 nonzeros\n",
            "Model fingerprint: 0xed654b23\n",
            "Variable types: 0 continuous, 690 integer (690 binary)\n",
            "Coefficient statistics:\n",
            "  Matrix range     [1e+00, 2e+04]\n",
            "  Objective range  [4e+03, 2e+06]\n",
            "  Bounds range     [1e+00, 1e+00]\n",
            "  RHS range        [1e+00, 8e+04]\n",
            "Found heuristic solution: objective -9688269.000\n",
            "Presolve removed 1014 rows and 0 columns\n",
            "Presolve time: 0.03s\n",
            "Presolved: 822 rows, 690 columns, 2922 nonzeros\n",
            "Variable types: 0 continuous, 690 integer (690 binary)\n",
            "Found heuristic solution: objective -9636711.000\n",
            "\n",
            "Root relaxation: objective 7.338410e+05, 350 iterations, 0.01 seconds (0.01 work units)\n",
            "\n",
            "    Nodes    |    Current Node    |     Objective Bounds      |     Work\n",
            " Expl Unexpl |  Obj  Depth IntInf | Incumbent    BestBd   Gap | It/Node Time\n",
            "\n",
            "     0     0 733841.000    0   70 -9636711.0 733841.000   108%     -    0s\n",
            "H    0     0                    -4797918.000 733841.000   115%     -    0s\n",
            "H    0     0                    -3440393.000 733841.000   121%     -    0s\n",
            "     0     0 705350.833    0  151 -3440393.0 705350.833   121%     -    0s\n",
            "H    0     0                    -3098978.000 705350.833   123%     -    0s\n",
            "     0     0 683090.500    0   96 -3098978.0 683090.500   122%     -    0s\n",
            "     0     0 682253.313    0  119 -3098978.0 682253.313   122%     -    0s\n",
            "     0     0 613513.638    0  120 -3098978.0 613513.638   120%     -    0s\n",
            "H    0     0                    -2977805.000 613513.638   121%     -    0s\n",
            "     0     0 613489.647    0  124 -2977805.0 613489.647   121%     -    0s\n",
            "     0     0 578478.000    0  102 -2977805.0 578478.000   119%     -    0s\n",
            "H    0     0                    -2775850.000 578478.000   121%     -    0s\n",
            "     0     0 576671.214    0  118 -2775850.0 576671.214   121%     -    0s\n",
            "     0     0 576049.447    0  118 -2775850.0 576049.447   121%     -    0s\n",
            "     0     0 539115.158    0  149 -2775850.0 539115.158   119%     -    0s\n",
            "H    0     0                    -2023585.000 539115.158   127%     -    0s\n",
            "     0     0 530223.200    0  138 -2023585.0 530223.200   126%     -    0s\n",
            "     0     0 530223.200    0  137 -2023585.0 530223.200   126%     -    0s\n",
            "     0     0 509973.899    0  151 -2023585.0 509973.899   125%     -    0s\n",
            "     0     0 508748.472    0  149 -2023585.0 508748.472   125%     -    0s\n",
            "     0     0 508748.472    0  152 -2023585.0 508748.472   125%     -    0s\n",
            "     0     0 487290.491    0  161 -2023585.0 487290.491   124%     -    0s\n",
            "H    0     0                    -1914085.000 487290.491   125%     -    0s\n",
            "     0     0 485993.906    0  160 -1914085.0 485993.906   125%     -    0s\n",
            "     0     0 485956.045    0  152 -1914085.0 485956.045   125%     -    0s\n",
            "     0     0 458048.588    0  167 -1914085.0 458048.588   124%     -    0s\n",
            "     0     0 455468.794    0  177 -1914085.0 455468.794   124%     -    0s\n",
            "     0     0 455433.723    0  179 -1914085.0 455433.723   124%     -    0s\n",
            "     0     0 446893.705    0  175 -1914085.0 446893.705   123%     -    0s\n",
            "H    0     0                    -1753723.000 446893.705   125%     -    0s\n",
            "     0     0 442352.117    0  175 -1753723.0 442352.117   125%     -    0s\n",
            "     0     0 442323.150    0  166 -1753723.0 442323.150   125%     -    0s\n",
            "     0     0 429775.019    0  177 -1753723.0 429775.019   125%     -    0s\n",
            "     0     0 429377.093    0  177 -1753723.0 429377.093   124%     -    0s\n",
            "     0     0 427582.599    0  184 -1753723.0 427582.599   124%     -    0s\n",
            "     0     0 427533.182    0  181 -1753723.0 427533.182   124%     -    0s\n",
            "     0     0 409480.581    0  163 -1753723.0 409480.581   123%     -    0s\n",
            "H    0     0                    -1554423.000 409480.581   126%     -    0s\n",
            "     0     0 402671.637    0  177 -1554423.0 402671.637   126%     -    0s\n",
            "     0     0 402051.415    0  182 -1554423.0 402051.415   126%     -    0s\n",
            "     0     0 392278.526    0  168 -1554423.0 392278.526   125%     -    0s\n",
            "     0     0 391025.587    0  170 -1554423.0 391025.587   125%     -    0s\n",
            "     0     0 390805.460    0  182 -1554423.0 390805.460   125%     -    0s\n",
            "     0     0 380786.469    0  189 -1554423.0 380786.469   124%     -    0s\n",
            "     0     0 379727.569    0  177 -1554423.0 379727.569   124%     -    0s\n",
            "     0     0 378932.462    0  189 -1554423.0 378932.462   124%     -    0s\n",
            "     0     0 378843.153    0  190 -1554423.0 378843.153   124%     -    0s\n",
            "     0     0 377964.846    0  189 -1554423.0 377964.846   124%     -    0s\n",
            "     0     0 377656.333    0  191 -1554423.0 377656.333   124%     -    0s\n",
            "     0     0 377432.308    0  196 -1554423.0 377432.308   124%     -    0s\n",
            "     0     0 372990.404    0  189 -1554423.0 372990.404   124%     -    0s\n",
            "     0     0 372495.911    0  188 -1554423.0 372495.911   124%     -    0s\n",
            "     0     0 372468.396    0  188 -1554423.0 372468.396   124%     -    0s\n",
            "     0     0 371947.075    0  187 -1554423.0 371947.075   124%     -    0s\n",
            "     0     0 371613.535    0  184 -1554423.0 371613.535   124%     -    0s\n",
            "H    0     0                    -1111535.000 371613.535   133%     -    0s\n",
            "H    0     0                    -989408.0000 371573.459   138%     -    0s\n",
            "H    0     0                    -579430.0000 371573.459   164%     -    0s\n",
            "     0     0 371573.459    0   85 -579430.00 371573.459   164%     -    0s\n",
            "     0     0 371573.459    0  126 -579430.00 371573.459   164%     -    0s\n",
            "     0     0 371573.459    0  144 -579430.00 371573.459   164%     -    0s\n",
            "     0     0 371573.459    0  152 -579430.00 371573.459   164%     -    0s\n",
            "     0     0 371573.459    0  156 -579430.00 371573.459   164%     -    0s\n",
            "     0     0 371573.459    0  160 -579430.00 371573.459   164%     -    0s\n",
            "     0     0 371573.459    0  167 -579430.00 371573.459   164%     -    0s\n",
            "     0     0 371573.459    0  172 -579430.00 371573.459   164%     -    0s\n",
            "     0     0 371573.459    0  171 -579430.00 371573.459   164%     -    0s\n",
            "     0     0 371573.459    0  173 -579430.00 371573.459   164%     -    0s\n",
            "     0     0 371444.694    0  183 -579430.00 371444.694   164%     -    1s\n",
            "     0     0 371444.694    0  183 -579430.00 371444.694   164%     -    1s\n",
            "     0     0 371402.058    0  181 -579430.00 371402.058   164%     -    1s\n",
            "     0     0 371386.403    0  180 -579430.00 371386.403   164%     -    1s\n",
            "H    0     0                    -404199.0000 371386.403   192%     -    1s\n",
            "     0     2 371333.266    0  174 -404199.00 371333.266   192%     -    1s\n",
            "*   19    19              10    -36789.00000 333519.438  1007%   110    1s\n",
            "*   23    17              10    5894.0000000 333519.438  5559%  92.9    1s\n",
            "*   42    26              11    11779.000000 333519.438  2731%  74.3    1s\n",
            "H  111     4                    137867.00000 182091.400  32.1%  69.0    1s\n",
            "\n",
            "Cutting planes:\n",
            "  Gomory: 5\n",
            "  Cover: 14\n",
            "  MIR: 22\n",
            "  Zero half: 65\n",
            "  RLT: 36\n",
            "  BQP: 1\n",
            "\n",
            "Explored 117 nodes (12636 simplex iterations) in 1.53 seconds (0.67 work units)\n",
            "Thread count was 2 (of 2 available processors)\n",
            "\n",
            "Solution count 10: 137867 11779 5894 ... -1.75372e+06\n",
            "\n",
            "Optimal solution found (tolerance 1.00e-04)\n",
            "Best objective 1.378670000000e+05, best bound 1.378670000000e+05, gap 0.0000%\n"
          ]
        }
      ]
    },
    {
      "cell_type": "code",
      "source": [
        "print(f'The optimal objective value is {m.ObjVal:g}.')"
      ],
      "metadata": {
        "colab": {
          "base_uri": "https://localhost:8080/"
        },
        "id": "V6WKdx5rMbuu",
        "outputId": "1f1c27c2-f39a-453a-b83d-b96b0c9f10b6"
      },
      "execution_count": 76,
      "outputs": [
        {
          "output_type": "stream",
          "name": "stdout",
          "text": [
            "The optimal objective value is 137867.\n"
          ]
        }
      ]
    },
    {
      "cell_type": "code",
      "source": [
        "product_plan = np.array([[x[i,j].X for j in range(nb_boxes)] for i in range(nb_products)])\n",
        "\n",
        "print ('The optimal solution for including products in each box is:')\n",
        "for j in range (nb_boxes):\n",
        "  print(f'Box {j+1} includes: {[products[index] for index, value in enumerate(product_plan[:,j]) if value == 1]}.')"
      ],
      "metadata": {
        "colab": {
          "base_uri": "https://localhost:8080/"
        },
        "id": "SJQXsGpjNRQ4",
        "outputId": "39b368b6-954a-43b0-97ed-82a7f31f23ae"
      },
      "execution_count": 96,
      "outputs": [
        {
          "output_type": "stream",
          "name": "stdout",
          "text": [
            "The optimal solution for including products in each box is:\n",
            "Box 1 includes: ['Lipstick A', 'Highlighter C', 'Highlighter D', 'Nailpolish C'].\n",
            "Box 2 includes: ['Lipstick A', 'Lipstick B', 'Lipstick D', 'Nailpolish D'].\n",
            "Box 3 includes: ['Moisturizer C', 'Lipstick D', 'Concealer B', 'Nailpolish D'].\n"
          ]
        }
      ]
    },
    {
      "cell_type": "code",
      "source": [
        "assignment_plan = np.array([[y[j,k].X for k in range(nb_subscribers_type)] for j in range(nb_boxes)])\n",
        "\n",
        "print('The optimal solution for assigning boxes to different types of subscribers is:')\n",
        "for j in range(nb_boxes):\n",
        "  print(f'Box {j+1} should be assigned to subscriber type: {[subscribers[index] for index, value in enumerate(assignment_plan[j,:]) if value ==1]}.')"
      ],
      "metadata": {
        "colab": {
          "base_uri": "https://localhost:8080/"
        },
        "id": "IxCz8Dx2XXAr",
        "outputId": "9c19c5c1-4bb2-4b00-d225-57942308f88f"
      },
      "execution_count": 98,
      "outputs": [
        {
          "output_type": "stream",
          "name": "stdout",
          "text": [
            "The optimal solution for assigning boxes to different types of subscribers is:\n",
            "Box 1 should be assigned to subscriber type: [1, 5, 8, 9].\n",
            "Box 2 should be assigned to subscriber type: [2, 3, 4].\n",
            "Box 3 should be assigned to subscriber type: [6, 7, 10].\n"
          ]
        }
      ]
    }
  ]
}