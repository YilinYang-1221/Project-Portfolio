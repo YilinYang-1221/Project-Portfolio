{
 "cells": [
  {
   "cell_type": "markdown",
   "id": "32c29e94-c5ba-4881-860a-d64be5b9f9b4",
   "metadata": {},
   "source": [
    "# Yilin Yang - Homework #3"
   ]
  },
  {
   "cell_type": "markdown",
   "id": "9965b84f-984d-483b-b5b4-a728ddef611d",
   "metadata": {},
   "source": [
    "## Exercise 3.1"
   ]
  },
  {
   "cell_type": "markdown",
   "id": "5adbb107-6e9f-48fd-8673-442f6654b313",
   "metadata": {},
   "source": [
    "Steps:\n",
    "1. import math library\n",
    "2. define a function called quad_roots which has 3 parameters a, b, c\n",
    "3. add docstring\n",
    "4. see if the type of a, b, c are integers or floats\n",
    "- (1) if so, see if b**2 - 4*a*c >= 0\n",
    "- (2) if b**2 - 4*a*c >= 0, then calculate the value of x1 and x2 according to formula\n",
    "- (3) else return 'another value'\n",
    "5. if a, b, c are not all in integers or floats, then return 'only enter num values'"
   ]
  },
  {
   "cell_type": "code",
   "execution_count": 239,
   "id": "eb2261db-9d6f-4a99-b3b5-4c57f4d98cfa",
   "metadata": {
    "tags": []
   },
   "outputs": [
    {
     "data": {
      "text/plain": [
       "'x1 equals to 23.0, x2 equals to 17.0'"
      ]
     },
     "execution_count": 239,
     "metadata": {},
     "output_type": "execute_result"
    }
   ],
   "source": [
    "import math \n",
    "def quad_roots(a, b, c):\n",
    "    '''\n",
    "    This function accepts the value of a, b, c for quadratic function a*x**2 + b*x + c = 0\n",
    "    and return the value for corresponding x\n",
    "    '''\n",
    "\n",
    "    # get the type of a, b, c to see if they are integers or floats\n",
    "    bool_a = isinstance (a, (int, float))\n",
    "    bool_b = isinstance (b, (int, float))\n",
    "    bool_c = isinstance (c, (int, float))\n",
    "    \n",
    "    # See if a, b, c are all numbers instead of other type of inputs\n",
    "    all_bool = all([bool_a, bool_b, bool_c])\n",
    "    \n",
    "    if all_bool == True:\n",
    "        if (b**2 - 4*a*c) >= 0:               # Decide whether delta >= 0. If so, calculate the sqrt\n",
    "            delta = math.sqrt(b**2-4*a*c)\n",
    "            x1 = (-b+delta) / (2*a)\n",
    "            x2 = (-b-delta) / (2*a)\n",
    "            return (f\"x1 equals to {x1}, x2 equals to {x2}\")        # Calculate the value for x1 and x2\n",
    "        else:                                 \n",
    "            return 'Delta must be nonegetive! Try another value'    # If delta < 0, can't calculate the sqrt\n",
    "    # If there are other types of inputs instead of (int, float)\n",
    "    else:                                      \n",
    "        return 'Please only enter number values'\n",
    "\n",
    "quad_roots(1, -40, 391)"
   ]
  },
  {
   "cell_type": "code",
   "execution_count": null,
   "id": "962f6cca-b1f7-40e4-89fb-43142cf8847d",
   "metadata": {},
   "outputs": [],
   "source": []
  },
  {
   "cell_type": "markdown",
   "id": "24e78554-2e00-4cee-80ad-3a71cc2e4300",
   "metadata": {},
   "source": [
    "## Exercise 3.2"
   ]
  },
  {
   "cell_type": "markdown",
   "id": "0ebc1540-d633-4109-8546-d38d06ff2ab1",
   "metadata": {},
   "source": [
    "Steps:\n",
    "1. define a function called series_num with parameter N\n",
    "2. check if N is a positive number\n",
    "3. if N > 0, then use a for loop to add all odd numbers in range(1, N+1) one by one\n",
    "4. if N <= 0, then return invalid result"
   ]
  },
  {
   "cell_type": "code",
   "execution_count": 240,
   "id": "410667cd-162d-4ac1-9103-5ce870c337b1",
   "metadata": {
    "tags": []
   },
   "outputs": [
    {
     "data": {
      "text/plain": [
       "'The sum of all the odd numbers from 1 to 9 is 25!'"
      ]
     },
     "execution_count": 240,
     "metadata": {},
     "output_type": "execute_result"
    }
   ],
   "source": [
    "def series_num (N):\n",
    "    '''\n",
    "    This function take the value N and output the summation of all the odd numbers from 1 to N+1\n",
    "    '''\n",
    "    # check if entered a positive number N\n",
    "    if N > 0:\n",
    "        SUM = 0\n",
    "        for i in range(1, N+1):     # use for loop and add all the odd numbers to SUM one by one\n",
    "            SUM += 2*i - 1\n",
    "            i = i+1\n",
    "        return f\"The sum of all the odd numbers from 1 to {2*N-1} is {SUM}!\"\n",
    "    \n",
    "    else:                          # if entered a non-positive number\n",
    "        return \"The number you gave is not valid. It must be positive!\"\n",
    "\n",
    "series_num(5)"
   ]
  },
  {
   "cell_type": "code",
   "execution_count": null,
   "id": "b7cf9cf0-2dd7-4925-82e5-038f368a3e26",
   "metadata": {},
   "outputs": [],
   "source": []
  },
  {
   "cell_type": "markdown",
   "id": "7c9f0931-3908-43de-b43b-0d1d0016d67c",
   "metadata": {},
   "source": [
    "## Exercise 3.3"
   ]
  },
  {
   "cell_type": "markdown",
   "id": "5f6e022a-2ad8-460b-a3bb-a2b7a6d29d52",
   "metadata": {},
   "source": [
    "Steps:\n",
    "1. define a function called temp_convert that takes two parameters: degree_value and degree_type\n",
    "2. check if degree_value is a number. check if degree_type is in 'C' or 'F'. use all() to combine two boolean values\n",
    "3. if both_bool == True, then use formula to calculate the tempreture according to degree_type 'C' or 'F'\n",
    "4. if bool_value == True and bool_type == False, return 'change type'\n",
    "5. if bool_value == False and bool_type == True, return 'enter valid degree value'\n",
    "6. if both bool values are \"False\", return the definition for this function"
   ]
  },
  {
   "cell_type": "code",
   "execution_count": 241,
   "id": "6454cf7b-bb41-4735-a7f7-57d4a0b318c1",
   "metadata": {
    "tags": []
   },
   "outputs": [
    {
     "name": "stdout",
     "output_type": "stream",
     "text": [
      "25 C is 77.0 in Fahrenheit.\n",
      "85 F is 29.4 in Celcius.\n",
      "Please enter a valid degree value\n",
      "Please only choose degree type 'C' or 'F'\n",
      "Please check the parameters. degree_value must be a number, while degree type must be 'C' or 'F'!\n"
     ]
    }
   ],
   "source": [
    "def temp_convert(degree_value, degree_type):\n",
    "    '''\n",
    "    This function takes two parameters: degree_value and degree_type. \n",
    "    Transfer a given degree for a certain type to the corresponding degree in the other type.\n",
    "    E.g. temp_convert(25, 'C') will get the corresponding tempreture in Fahrenheit.\n",
    "    Please note,  degree_value must be int or float, and degree_type must be 'C' or 'F'\n",
    "    '''\n",
    "    bool_value = isinstance(degree_value, (int, float))\n",
    "    bool_type = degree_type in ['C', 'F']\n",
    "    both_bool = all([bool_value, bool_type])\n",
    "    if both_bool == True:\n",
    "        if degree_type == 'C':\n",
    "            F_value = (9*degree_value+160)/5\n",
    "            return (f\"{degree_value} C is {F_value:.1f} in Fahrenheit.\")\n",
    "        \n",
    "        else:\n",
    "            C_value = (5*degree_value-160)/9\n",
    "            return (f\"{degree_value} F is {C_value:.1f} in Celcius.\")\n",
    "    else:\n",
    "        if bool_value == True and bool_type == False:\n",
    "            return \"Please only choose degree type 'C' or 'F'\"\n",
    "        elif bool_value == False and bool_type == True:\n",
    "            return \"Please enter a valid degree value\"\n",
    "        else:\n",
    "            return \"Please check the parameters. degree_value must be a number, while degree type must be 'C' or 'F'!\"\n",
    "            \n",
    "print(temp_convert(25, 'C'))\n",
    "print(temp_convert(85, 'F'))\n",
    "print(temp_convert('C', 'F'))\n",
    "print(temp_convert(25, 'aaaa'))\n",
    "print(temp_convert('C', 25))"
   ]
  },
  {
   "cell_type": "code",
   "execution_count": null,
   "id": "9ff7eb1b-0f00-4fc5-a1ee-638a02f8fe23",
   "metadata": {},
   "outputs": [],
   "source": []
  },
  {
   "cell_type": "code",
   "execution_count": null,
   "id": "f2ed52ab-aa00-4df4-b12d-a415fa4c3900",
   "metadata": {},
   "outputs": [],
   "source": []
  },
  {
   "cell_type": "markdown",
   "id": "bce866e8-8969-4e2a-872d-60af13e337ee",
   "metadata": {
    "tags": []
   },
   "source": [
    "## Exercise 3.4"
   ]
  },
  {
   "cell_type": "markdown",
   "id": "8aa35884-5d76-4009-8d04-bdc693d1febd",
   "metadata": {},
   "source": [
    "#### solution 1"
   ]
  },
  {
   "cell_type": "markdown",
   "id": "0cb09abe-69bb-4293-85ae-55069c457a5b",
   "metadata": {
    "tags": []
   },
   "source": [
    "Steps:\n",
    "1. import random library\n",
    "2. define a function called sim_dice with no parameter\n",
    "3. generate 10,000 random number within (0, 1) using random function\n",
    "4. generate a sample_value list that contains values from 1 to 6\n",
    "5. Function structure:\n",
    "- (1) first divide 6 intervals, use a for loop that loop through 1 to 6 within i*(1/6) and (i+1)*(1/6)\n",
    "- (2) use the i*(1/6) <= item < (i+1)*(1/6) criteria. Append elements into an empty list: list_1.\n",
    "- (3) get the length of the appended list_1 and append the length into a new list called occurence_list\n",
    "- (4) clear list_1 and loop for the next interval\n",
    "- (5) finally we get an occurence_list that contains the occurence that samples drop within each interval.\n",
    "6. use zip function to concatenate sample_value as keys, occurence_list as value. name the dictionary as dict_1\n",
    "7. return dict_1"
   ]
  },
  {
   "cell_type": "code",
   "execution_count": 1,
   "id": "54dc46e0-1f93-4e56-91ab-b8ddebc2f586",
   "metadata": {
    "tags": []
   },
   "outputs": [
    {
     "data": {
      "text/plain": [
       "{1: 1657, 2: 1651, 3: 1711, 4: 1622, 5: 1677, 6: 1682}"
      ]
     },
     "execution_count": 1,
     "metadata": {},
     "output_type": "execute_result"
    }
   ],
   "source": [
    "# import random library for generating random numbers\n",
    "import random\n",
    "\n",
    "# generate 10,000 random numbers and store in a list called results\n",
    "# define the sample space as a list called sample_value\n",
    "results = [random.random() for item in range(10000)]\n",
    "sample_value = [x for x in range(1,7)]\n",
    "\n",
    "# define two empty list (list_1 and occurence_list)\n",
    "\n",
    "# list_1 is used for store the numbers that fall within a specific range\n",
    "# occurence_list is used for store the length of list_1 \n",
    "# which is also the occurence frequency for each sample value in the loop each time\n",
    "list_1 = []\n",
    "occurence_list = [] \n",
    "\n",
    "\n",
    "def sim_dice():\n",
    "    '''\n",
    "    This function has no parameter.  It will automatically return the frequency \n",
    "    for the occurence of different dots when rolling a fair die for 10,000 times\n",
    "    '''\n",
    "    for i in range(6): \n",
    "    # loop through 6 sections: [0, 1/6], [1/6, 2/6], [2/6, 3/6], [3/6, 4/6], [4/6, 5/6], [5/6, 1]\n",
    "        for item in results:   # check the corresponding section for each value one by one\n",
    "            \n",
    "            if i*1/6 <= item < (i+1)*1/6: \n",
    "                list_1.append(item)         # if the element falls within the interval, then add it to list_1\n",
    "        \n",
    "        occurence_list.append(len(list_1))  # get the length of list_1 and store the occurence value in occurence_list\n",
    "        list_1.clear()                      # clear all the elements in list_1 then loop for the next interval\n",
    "    \n",
    "    dict_1 = dict(zip(sample_value, occurence_list))  \n",
    "    # use zip to concatenate two list (sample_value, occurence_list) as keys and values\n",
    "    \n",
    "    return dict_1\n",
    "\n",
    "sim_dice()"
   ]
  },
  {
   "cell_type": "code",
   "execution_count": null,
   "id": "58965e3e-23c6-4785-8adf-f3aa59a9a466",
   "metadata": {},
   "outputs": [],
   "source": []
  },
  {
   "cell_type": "markdown",
   "id": "9e407c32-7fe0-442e-b391-5f5de44fcdff",
   "metadata": {},
   "source": [
    "## Another solution to Exercise 3.4 (Step 4 got help from others)"
   ]
  },
  {
   "cell_type": "markdown",
   "id": "9c51dfa5-7d47-4b96-8597-802530fb8576",
   "metadata": {},
   "source": [
    "Steps:\n",
    "1. import random library and generate 10000 random numbers, store them in a list\n",
    "2. divide the interval [0, 1] into 6 groups: [0, 1/6], [1/6, 2/6], [2/6, 3/6], [3/6, 4/6], [4/6, 5/6], [5/6, 1]\n",
    "3. create a list that contain 6 elements, each element refers to the frequency within the corresponding group\n",
    "4. start from 0, check the integer part for 6*(random number). Add 1 to the range which it falls within\n",
    "5. loop through the random results until get the frequency for each group\n",
    "6. create a dictionary using keys and values"
   ]
  },
  {
   "cell_type": "code",
   "execution_count": 6,
   "id": "c3122f75-4f7e-4151-aeea-e8339bc883a8",
   "metadata": {
    "tags": []
   },
   "outputs": [
    {
     "name": "stdout",
     "output_type": "stream",
     "text": [
      "{1: 1653, 2: 1690, 3: 1633, 4: 1629, 5: 1661, 6: 1734}\n"
     ]
    }
   ],
   "source": [
    "# import random library and generate 10000 numbers\n",
    "import random\n",
    "results = [random.random() for item in range(10000)]\n",
    "\n",
    "# create a new list that contains the frequency within each group. Start from 0\n",
    "prob = [0 for x in range(6)]\n",
    "\n",
    "for i in results:\n",
    "    x = int(i /(1/6))   # only keep the integer part for 6 * x\n",
    "    prob[x] += 1        # add 1 to the corresponding group's frequency. \n",
    "                        # E.g. x = 0.25, int(6 * x) = 1, add 1 to the 2nd group (x within 1/6 and 2/6), whose index is [1]\n",
    "    \n",
    "values = [x for x in prob]\n",
    "keys = [x for x in range(1,7)]\n",
    "\n",
    "d = dict(zip(keys, values))  # use zip function to pair keys and values\n",
    "print(d)"
   ]
  },
  {
   "cell_type": "markdown",
   "id": "e9225ba4-423f-4ae0-95fc-801d82f612c1",
   "metadata": {},
   "source": [
    "#### Notes: Compared to the 1st solution,  the 2nd solution only contains 1 for loop. This will largely shorten code's running time "
   ]
  },
  {
   "cell_type": "code",
   "execution_count": null,
   "id": "df393efe-998a-49b3-8303-898709f94741",
   "metadata": {},
   "outputs": [],
   "source": []
  }
 ],
 "metadata": {
  "kernelspec": {
   "display_name": "Python 3 (ipykernel)",
   "language": "python",
   "name": "python3"
  },
  "language_info": {
   "codemirror_mode": {
    "name": "ipython",
    "version": 3
   },
   "file_extension": ".py",
   "mimetype": "text/x-python",
   "name": "python",
   "nbconvert_exporter": "python",
   "pygments_lexer": "ipython3",
   "version": "3.11.4"
  }
 },
 "nbformat": 4,
 "nbformat_minor": 5
}
